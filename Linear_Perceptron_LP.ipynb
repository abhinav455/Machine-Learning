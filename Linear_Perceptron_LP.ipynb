{
 "cells": [
  {
   "cell_type": "code",
   "execution_count": 1,
   "metadata": {},
   "outputs": [],
   "source": [
    "import numpy as mynumpy\n",
    "import pandas as mypanda"
   ]
  },
  {
   "cell_type": "code",
   "execution_count": 2,
   "metadata": {},
   "outputs": [],
   "source": [
    "datafile2 = mypanda.read_csv(\"dataset_LP_2.csv\" , header=None)"
   ]
  },
  {
   "cell_type": "code",
   "execution_count": 3,
   "metadata": {},
   "outputs": [],
   "source": [
    "datafile1 = mypanda.read_csv(\"dataset_LP_1.txt\", header =None)"
   ]
  },
  {
   "cell_type": "code",
   "execution_count": 4,
   "metadata": {},
   "outputs": [],
   "source": [
    "def split_rearrange(datafile):\n",
    "    datafile = datafile.sample(frac = 1) \n",
    "    datafile.reset_index(drop=True,inplace=True)\n",
    "    info_training = datafile[:int(0.7*len(datafile))]\n",
    "    info_trial = datafile[int(0.7*len(datafile)):]\n",
    "    return info_training, info_trial"
   ]
  },
  {
   "cell_type": "code",
   "execution_count": 5,
   "metadata": {},
   "outputs": [],
   "source": [
    "def info_wiping(datafile):\n",
    "    single = mynumpy.ones((datafile.shape[0],1))\n",
    "    axis_X = mynumpy.hstack((single,datafile))[:,:-1]   \n",
    "    return axis_X"
   ]
  },
  {
   "cell_type": "code",
   "execution_count": 6,
   "metadata": {},
   "outputs": [],
   "source": [
    "info_training2, info_trial2 = split_rearrange(datafile2)"
   ]
  },
  {
   "cell_type": "code",
   "execution_count": 7,
   "metadata": {
    "scrolled": true
   },
   "outputs": [],
   "source": [
    "practice_axis_X2 = info_wiping(info_training2)                    \n",
    "practice_axis_Y2 = info_training2[info_training2.columns[-1]]      \n",
    "                                                                     "
   ]
  },
  {
   "cell_type": "code",
   "execution_count": 8,
   "metadata": {},
   "outputs": [
    {
     "data": {
      "text/plain": [
       "array([[-0.28798707],\n",
       "       [-0.92450629],\n",
       "       [ 0.170056  ],\n",
       "       [-0.8902469 ]])"
      ]
     },
     "execution_count": 8,
     "metadata": {},
     "output_type": "execute_result"
    }
   ],
   "source": [
    "weight2 = mynumpy.random.randn(practice_axis_X2.shape[1])\n",
    "weight2.resize(practice_axis_X2.shape[1],1)\n",
    "weight2"
   ]
  },
  {
   "cell_type": "code",
   "execution_count": 9,
   "metadata": {},
   "outputs": [],
   "source": [
    "practice_axis_Y2[(mynumpy.where(practice_axis_Y2==0))[0]]= -1 "
   ]
  },
  {
   "cell_type": "code",
   "execution_count": 10,
   "metadata": {},
   "outputs": [],
   "source": [
    "interim = practice_axis_Y2.to_numpy()\n",
    "interim.resize(practice_axis_X2.shape[0],1)\n",
    "practice_axis_Y2 = interim"
   ]
  },
  {
   "cell_type": "code",
   "execution_count": 11,
   "metadata": {},
   "outputs": [
    {
     "data": {
      "text/plain": [
       "(700, 1)"
      ]
     },
     "execution_count": 11,
     "metadata": {},
     "output_type": "execute_result"
    }
   ],
   "source": [
    "practice_axis_Y2.shape"
   ]
  },
  {
   "cell_type": "code",
   "execution_count": 12,
   "metadata": {},
   "outputs": [
    {
     "data": {
      "text/plain": [
       "(700, 4)"
      ]
     },
     "execution_count": 12,
     "metadata": {},
     "output_type": "execute_result"
    }
   ],
   "source": [
    "practice_axis_X2.shape"
   ]
  },
  {
   "cell_type": "code",
   "execution_count": 13,
   "metadata": {},
   "outputs": [
    {
     "data": {
      "text/plain": [
       "(4, 1)"
      ]
     },
     "execution_count": 13,
     "metadata": {},
     "output_type": "execute_result"
    }
   ],
   "source": [
    "weight2.shape"
   ]
  },
  {
   "cell_type": "code",
   "execution_count": 14,
   "metadata": {},
   "outputs": [],
   "source": [
    "\n",
    "def straight_perp(axis_X,axis_y,weight):\n",
    "    i=0\n",
    "    while(i<1000):\n",
    "        height = axis_y * mynumpy.dot(axis_X,weight)   \n",
    "        iteration=0\n",
    "        while(iteration<len(height)):\n",
    "            if ((height[iteration])<0)[0]:\n",
    "                weight = weight + (axis_y[iteration]*(axis_X[iteration].reshape((axis_X.shape[1],1)))) \n",
    "                break\n",
    "            iteration=iteration+1\n",
    "        i=i+1\n",
    "    return weight"
   ]
  },
  {
   "cell_type": "code",
   "execution_count": 15,
   "metadata": {},
   "outputs": [],
   "source": [
    "phi2 = straight_perp(practice_axis_X2,practice_axis_Y2,weight2)"
   ]
  },
  {
   "cell_type": "code",
   "execution_count": 16,
   "metadata": {},
   "outputs": [
    {
     "data": {
      "text/plain": [
       "array([[ 2.71201293],\n",
       "       [-0.60330561],\n",
       "       [ 3.44799125],\n",
       "       [17.49704085]])"
      ]
     },
     "execution_count": 16,
     "metadata": {},
     "output_type": "execute_result"
    }
   ],
   "source": [
    "phi2"
   ]
  },
  {
   "cell_type": "code",
   "execution_count": 17,
   "metadata": {},
   "outputs": [],
   "source": [
    "validity2 = 0  #testing data for datafile2\n",
    "trial_axis_X2 = info_wiping(info_trial2)\n",
    "trial_axis_Y2 = info_trial2[info_trial2.columns[-1]] \n"
   ]
  },
  {
   "cell_type": "code",
   "execution_count": 18,
   "metadata": {},
   "outputs": [],
   "source": [
    "predict_axis_Y2 = mynumpy.dot(trial_axis_X2,phi2)"
   ]
  },
  {
   "cell_type": "code",
   "execution_count": 19,
   "metadata": {},
   "outputs": [],
   "source": [
    "invalid = 0\n",
    "i=0\n",
    "while(i<len(trial_axis_Y2)):\n",
    "    if predict_axis_Y2[i]<0 and trial_axis_Y2.iloc[i]>0:\n",
    "        invalid+=1\n",
    "    elif predict_axis_Y2[i]>0 and trial_axis_Y2.iloc[i]<0:\n",
    "        invalid+=1\n",
    "    i=i+1"
   ]
  },
  {
   "cell_type": "code",
   "execution_count": 20,
   "metadata": {},
   "outputs": [],
   "source": [
    "validity2 = (1- (invalid/len(trial_axis_Y2)))*100"
   ]
  },
  {
   "cell_type": "code",
   "execution_count": 21,
   "metadata": {},
   "outputs": [
    {
     "data": {
      "text/plain": [
       "99.66666666666667"
      ]
     },
     "execution_count": 21,
     "metadata": {},
     "output_type": "execute_result"
    }
   ],
   "source": [
    "validity2"
   ]
  },
  {
   "cell_type": "code",
   "execution_count": 22,
   "metadata": {},
   "outputs": [],
   "source": [
    "info_training1, info_trial1 = split_rearrange(datafile1)"
   ]
  },
  {
   "cell_type": "code",
   "execution_count": 23,
   "metadata": {},
   "outputs": [],
   "source": [
    "practice_axis_X1 = info_wiping(info_training1)\n",
    "practice_axis_Y1 = info_training1[info_training1.columns[-1]]"
   ]
  },
  {
   "cell_type": "code",
   "execution_count": 24,
   "metadata": {},
   "outputs": [
    {
     "data": {
      "text/plain": [
       "array([[-1.82428874],\n",
       "       [-0.91011062],\n",
       "       [ 0.55554861],\n",
       "       [-1.15702897],\n",
       "       [ 0.56843649]])"
      ]
     },
     "execution_count": 24,
     "metadata": {},
     "output_type": "execute_result"
    }
   ],
   "source": [
    "weight1 = mynumpy.random.randn(practice_axis_X1.shape[1])\n",
    "weight1.resize(5,1)\n",
    "weight1"
   ]
  },
  {
   "cell_type": "code",
   "execution_count": 25,
   "metadata": {},
   "outputs": [
    {
     "data": {
      "text/plain": [
       "(960, 5)"
      ]
     },
     "execution_count": 25,
     "metadata": {},
     "output_type": "execute_result"
    }
   ],
   "source": [
    "practice_axis_X1.shape"
   ]
  },
  {
   "cell_type": "code",
   "execution_count": 26,
   "metadata": {},
   "outputs": [
    {
     "data": {
      "text/plain": [
       "(412, 5)"
      ]
     },
     "execution_count": 26,
     "metadata": {},
     "output_type": "execute_result"
    }
   ],
   "source": [
    "info_trial1.shape"
   ]
  },
  {
   "cell_type": "code",
   "execution_count": 27,
   "metadata": {},
   "outputs": [
    {
     "data": {
      "text/plain": [
       "(1372, 5)"
      ]
     },
     "execution_count": 27,
     "metadata": {},
     "output_type": "execute_result"
    }
   ],
   "source": [
    "datafile1.shape"
   ]
  },
  {
   "cell_type": "code",
   "execution_count": 28,
   "metadata": {},
   "outputs": [],
   "source": [
    "practice_axis_Y1[(mynumpy.where(practice_axis_Y1==0))[0]]= -1"
   ]
  },
  {
   "cell_type": "code",
   "execution_count": 29,
   "metadata": {},
   "outputs": [],
   "source": [
    "interim = practice_axis_Y1.to_numpy()\n",
    "interim.resize(practice_axis_X1.shape[0],1)\n",
    "practice_axis_Y1 = interim"
   ]
  },
  {
   "cell_type": "code",
   "execution_count": 30,
   "metadata": {},
   "outputs": [],
   "source": [
    "phi1 = straight_perp(practice_axis_X1,practice_axis_Y1,weight1)"
   ]
  },
  {
   "cell_type": "code",
   "execution_count": 31,
   "metadata": {},
   "outputs": [
    {
     "data": {
      "text/plain": [
       "array([[ 148.17571126],\n",
       "       [-100.70689062],\n",
       "       [ -79.94258139],\n",
       "       [ -68.96192897],\n",
       "       [   5.13120649]])"
      ]
     },
     "execution_count": 31,
     "metadata": {},
     "output_type": "execute_result"
    }
   ],
   "source": [
    "phi1"
   ]
  },
  {
   "cell_type": "code",
   "execution_count": 32,
   "metadata": {},
   "outputs": [],
   "source": [
    "validity1 = 0  #testing data for datafile2\n",
    "trial_axis_X1 = info_wiping(info_trial1)\n",
    "trial_axis_Y1 = info_trial1[info_trial1.columns[-1]] "
   ]
  },
  {
   "cell_type": "code",
   "execution_count": 33,
   "metadata": {},
   "outputs": [],
   "source": [
    "predict_axis_Y1 = mynumpy.dot(trial_axis_X1,phi1)"
   ]
  },
  {
   "cell_type": "code",
   "execution_count": 34,
   "metadata": {},
   "outputs": [],
   "source": [
    "invalid = 0\n",
    "i=0\n",
    "while(i<len(trial_axis_Y1)):\n",
    "    if predict_axis_Y1[i]<0 and trial_axis_Y1.iloc[i]>0:\n",
    "        invalid+=1\n",
    "    elif predict_axis_Y1[i]>0 and trial_axis_Y1.iloc[i]<0:\n",
    "        invalid+=1\n",
    "    i=i+1"
   ]
  },
  {
   "cell_type": "code",
   "execution_count": 35,
   "metadata": {},
   "outputs": [],
   "source": [
    "validity1 = (1 - (invalid/len(trial_axis_Y1)))*100"
   ]
  },
  {
   "cell_type": "code",
   "execution_count": 36,
   "metadata": {},
   "outputs": [
    {
     "data": {
      "text/plain": [
       "98.30097087378641"
      ]
     },
     "execution_count": 36,
     "metadata": {},
     "output_type": "execute_result"
    }
   ],
   "source": [
    "validity1"
   ]
  },
  {
   "cell_type": "code",
   "execution_count": null,
   "metadata": {},
   "outputs": [],
   "source": []
  },
  {
   "cell_type": "code",
   "execution_count": null,
   "metadata": {},
   "outputs": [],
   "source": []
  }
 ],
 "metadata": {
  "kernelspec": {
   "display_name": "Python 3",
   "language": "python",
   "name": "python3"
  },
  "language_info": {
   "codemirror_mode": {
    "name": "ipython",
    "version": 3
   },
   "file_extension": ".py",
   "mimetype": "text/x-python",
   "name": "python",
   "nbconvert_exporter": "python",
   "pygments_lexer": "ipython3",
   "version": "3.7.3"
  }
 },
 "nbformat": 4,
 "nbformat_minor": 4
}
