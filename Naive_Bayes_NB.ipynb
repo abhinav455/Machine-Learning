{
 "cells": [
  {
   "cell_type": "code",
   "execution_count": 1,
   "metadata": {},
   "outputs": [],
   "source": [
    "import itertools\n",
    "from collections import defaultdict\n",
    "import random\n",
    "import pandas as mypanda\n",
    "from collections import Counter\n",
    "import numpy as mynumpy\n",
    "\n",
    "    \n"
   ]
  },
  {
   "cell_type": "code",
   "execution_count": 2,
   "metadata": {},
   "outputs": [],
   "source": [
    "fh=open(r'dataset_NB.txt','r')\n",
    "stopping_wordings = ['your','you','yet','have','has','how','had','else','each','does','did','can','but','are','any','and','may','were','there','the','who']\n"
   ]
  },
  {
   "cell_type": "code",
   "execution_count": 3,
   "metadata": {},
   "outputs": [],
   "source": [
    "def funcclean(fh):\n",
    "    axis_y=[]\n",
    "    mainfile=fh.readlines()\n",
    "    i=0\n",
    "    while(i<len(mainfile)):\n",
    "        fileword=mainfile[i]\n",
    "        fileword=fileword.strip()\n",
    "        mainfile[i]=fileword.lower()\n",
    "        axis_y.append(int(fileword[-1]))\n",
    "        i=i+1\n",
    "    funcclean_file=[]\n",
    "    terms=[]\n",
    "    \n",
    "    for fileword in mainfile:\n",
    "        x=fileword.split()\n",
    "        for term in x :\n",
    "            if(term.isalpha() and term not in stopping_wordings and len(term)>2):\n",
    "                terms.append(term)\n",
    "        funcclean_file.append(terms)\n",
    "        terms=[]\n",
    "    \n",
    "    return funcclean_file , axis_y\n",
    "\n"
   ]
  },
  {
   "cell_type": "code",
   "execution_count": 4,
   "metadata": {},
   "outputs": [],
   "source": [
    "mainfile,axis_y=funcclean(fh)"
   ]
  },
  {
   "cell_type": "code",
   "execution_count": 5,
   "metadata": {},
   "outputs": [],
   "source": [
    "def validation_check(mainfile,axis_y):\n",
    "    mainfile=mynumpy.array(mainfile)\n",
    "    axis_y=mynumpy.array(axis_y)\n",
    "    index_check = mynumpy.arange(mainfile.shape[0])\n",
    "    mynumpy.random.shuffle(index_check)\n",
    "    mainfile=list(mainfile[index_check])\n",
    "    axis_y=list(axis_y[index_check])\n",
    "    interim=[]\n",
    "    axis_y_interim = []\n",
    "    practice=[]\n",
    "    axis_y_practice=[]\n",
    "    trial=[]\n",
    "    axis_y_trial= []\n",
    "    value_current=0\n",
    "    i=0\n",
    "    while(i<7):\n",
    "        if(i!=6):\n",
    "            trial.append(mainfile[value_current:value_current+int(len(mainfile)/7)])\n",
    "            axis_y_trial.append(axis_y[value_current:value_current+int(len(mainfile)/7)])\n",
    "        else:\n",
    "            trial.append(mainfile[value_current:])\n",
    "            axis_y_trial.append(axis_y[value_current:])\n",
    "            \n",
    "        if(i!=0):\n",
    "            interim.append(mainfile[0:value_current])\n",
    "            axis_y_interim.append(axis_y[0:value_current])\n",
    "        if(i!=6):\n",
    "            interim.append(mainfile[value_current+int(len(mainfile)/7):])\n",
    "            axis_y_interim.append(axis_y[value_current+int(len(mainfile)/7):])\n",
    "        \n",
    "        interim=list(itertools.chain.from_iterable(interim))\n",
    "        axis_y_interim=list(itertools.chain.from_iterable(axis_y_interim))\n",
    "        practice.append(interim)\n",
    "        axis_y_practice.append(axis_y_interim)\n",
    "        value_current=value_current+int(len(mainfile)/7)\n",
    "        interim=[]\n",
    "        axis_y_interim=[]\n",
    "        i=i+1\n",
    "    return practice,axis_y_practice,trial,axis_y_trial\n",
    "\n"
   ]
  },
  {
   "cell_type": "code",
   "execution_count": 6,
   "metadata": {},
   "outputs": [],
   "source": [
    "def Theorem_Bayes_prob( s ,apm ,apm_frequency):\n",
    "    prime=apm[s]/apm_frequency   #p(x1/c1)\n",
    "    return prime\n",
    "\n",
    "def Theorem_Bayes_fig( s ,fig,frequency_fig):\n",
    "    quant=fig[s]/frequency_fig\n",
    "    return quant\n"
   ]
  },
  {
   "cell_type": "code",
   "execution_count": 7,
   "metadata": {},
   "outputs": [],
   "source": [
    "def dict_make(practice,axis_y):\n",
    "    axis_y=mynumpy.array(axis_y)\n",
    "    setting_apm=()\n",
    "    fig_setting=()\n",
    "    \n",
    "    apm_position=mynumpy.where(axis_y==0)[0]\n",
    "    fig_position=mynumpy.where(axis_y==1)[0]\n",
    "    apm=Counter(practice[apm_position[0]])\n",
    "    fig=Counter(practice[fig_position[0]])\n",
    "    count_apm=len(apm_position)\n",
    "    fig_count=len(fig_position)\n",
    "    i=1\n",
    "    while(i<count_apm):\n",
    "        apm.update(Counter(practice[apm_position[i]]))\n",
    "        i=i+1\n",
    "    i=1\n",
    "    while(i<fig_count):\n",
    "        fig.update(Counter(practice[fig_position[i]]))\n",
    "        i=i+1\n",
    "    return count_apm,fig_count,apm,fig"
   ]
  },
  {
   "cell_type": "code",
   "execution_count": 8,
   "metadata": {},
   "outputs": [
    {
     "name": "stderr",
     "output_type": "stream",
     "text": [
      "C:\\Users\\AbhinavBhattacharjee\\Anaconda3\\lib\\site-packages\\ipykernel_launcher.py:2: VisibleDeprecationWarning: Creating an ndarray from ragged nested sequences (which is a list-or-tuple of lists-or-tuples-or ndarrays with different lengths or shapes) is deprecated. If you meant to do this, you must specify 'dtype=object' when creating the ndarray\n",
      "  \n"
     ]
    },
    {
     "name": "stdout",
     "output_type": "stream",
     "text": [
      "90.84507042253522\n",
      "93.66197183098592\n",
      "92.25352112676056\n",
      "90.14084507042254\n",
      "90.84507042253522\n",
      "94.36619718309859\n",
      "92.56756756756756\n"
     ]
    }
   ],
   "source": [
    "practice,axis_y_practice,trial,axis_y_trial=validation_check(mainfile,axis_y)\n",
    "axis_y_practice=mynumpy.array(axis_y_practice)\n",
    "validity=[]\n",
    "i=0\n",
    "while(i<7):\n",
    "    invalid=0\n",
    "    count_apm , fig_count , apm , fig = dict_make(practice[i],axis_y_practice[i])\n",
    "    apm_frequency = sum(apm.values())\n",
    "    frequency_fig = sum(fig.values())\n",
    "    \n",
    "\n",
    "    j=0\n",
    "    while(j<len(trial[i])):\n",
    "        fig_ans=fig_count / (count_apm+fig_count)         \n",
    "        quant=0\n",
    "        k=0\n",
    "        \n",
    "     \n",
    "        while(k<len(trial[i][j])):\n",
    "            quant = Theorem_Bayes_fig( trial[i][j][k] ,fig, frequency_fig)           \n",
    "            fig_ans*=quant              #P(C1/x)=(P(x/C1)*P(c1))                 #P(x/C1)=P(x1/C1)*P(x2/C1).....     \n",
    "            k=k+1\n",
    "\n",
    "        answer_apm=count_apm / (count_apm+fig_count)         \n",
    "        prime=0\n",
    "        k=0\n",
    "        \n",
    "       \n",
    "        while(k<len(trial[i][j])):\n",
    "            prime= Theorem_Bayes_prob( trial[i][j][k] , apm, apm_frequency)\n",
    "            answer_apm*=prime     \n",
    "            k=k+1\n",
    "            \n",
    "      \n",
    "        if(answer_apm>fig_ans and axis_y_trial[i][j]==1):\n",
    "            invalid+=1\n",
    "        elif(answer_apm<fig_ans and axis_y_trial[i][j]==0):\n",
    "            invalid+=1\n",
    "        j=j+1\n",
    "    acc=(1-(invalid/len(axis_y_trial[i])))*100\n",
    "    print(acc)\n",
    "    validity.append(acc)\n",
    "    i=i+1"
   ]
  },
  {
   "cell_type": "code",
   "execution_count": 9,
   "metadata": {},
   "outputs": [
    {
     "name": "stdout",
     "output_type": "stream",
     "text": [
      "Average of accuracy= 92.09717766055795\n",
      "maximum accuracy= 94.36619718309859\n"
     ]
    }
   ],
   "source": [
    "account_average=sum(validity)/len(validity)\n",
    "print(\"Average of accuracy=\",account_average)\n",
    "print(\"maximum accuracy=\",max(validity))"
   ]
  },
  {
   "cell_type": "code",
   "execution_count": null,
   "metadata": {},
   "outputs": [],
   "source": []
  },
  {
   "cell_type": "code",
   "execution_count": null,
   "metadata": {},
   "outputs": [],
   "source": []
  },
  {
   "cell_type": "code",
   "execution_count": null,
   "metadata": {},
   "outputs": [],
   "source": []
  },
  {
   "cell_type": "code",
   "execution_count": null,
   "metadata": {},
   "outputs": [],
   "source": []
  },
  {
   "cell_type": "code",
   "execution_count": null,
   "metadata": {},
   "outputs": [],
   "source": []
  },
  {
   "cell_type": "code",
   "execution_count": null,
   "metadata": {},
   "outputs": [],
   "source": []
  },
  {
   "cell_type": "code",
   "execution_count": null,
   "metadata": {},
   "outputs": [],
   "source": []
  }
 ],
 "metadata": {
  "kernelspec": {
   "display_name": "Python 3",
   "language": "python",
   "name": "python3"
  },
  "language_info": {
   "codemirror_mode": {
    "name": "ipython",
    "version": 3
   },
   "file_extension": ".py",
   "mimetype": "text/x-python",
   "name": "python",
   "nbconvert_exporter": "python",
   "pygments_lexer": "ipython3",
   "version": "3.7.3"
  }
 },
 "nbformat": 4,
 "nbformat_minor": 2
}
