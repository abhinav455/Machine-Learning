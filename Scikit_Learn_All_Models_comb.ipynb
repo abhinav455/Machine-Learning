{
 "cells": [
  {
   "cell_type": "code",
   "execution_count": 1,
   "metadata": {},
   "outputs": [],
   "source": [
    "#Imorting all libraries\n",
    "import pandas as pd\n",
    "import numpy as np \n",
    "import matplotlib.pyplot as plt\n",
    "\n",
    "from sklearn.linear_model import LogisticRegression\n",
    "from sklearn.linear_model import Perceptron\n",
    "from sklearn.svm import SVC  \n",
    "from sklearn.naive_bayes import GaussianNB\n",
    "from sklearn.discriminant_analysis import LinearDiscriminantAnalysis\n",
    "from sklearn.neural_network import MLPClassifier\n",
    "from sklearn.metrics import accuracy_score\n",
    "\n",
    "import statistics"
   ]
  },
  {
   "cell_type": "code",
   "execution_count": 2,
   "metadata": {},
   "outputs": [],
   "source": [
    "#read and shuffle data\n",
    "\n",
    "df = pd.read_csv(\"dataset_comb.csv\")\n",
    "df = df.sample(frac = 1)"
   ]
  },
  {
   "cell_type": "code",
   "execution_count": 3,
   "metadata": {},
   "outputs": [
    {
     "data": {
      "text/plain": [
       "Index(['id', 'Area', 'MajorAxisLength', 'MinorAxisLength', 'Eccentricity',\n",
       "       'ConvexArea', 'EquivDiameter', 'Extent', 'Perimeter', 'Roundness',\n",
       "       'AspectRation', 'Class'],\n",
       "      dtype='object')"
      ]
     },
     "execution_count": 3,
     "metadata": {},
     "output_type": "execute_result"
    }
   ],
   "source": [
    "df.columns"
   ]
  },
  {
   "cell_type": "code",
   "execution_count": 4,
   "metadata": {},
   "outputs": [
    {
     "data": {
      "text/plain": [
       "jasmine    9985\n",
       "Gonen      8200\n",
       "Name: Class, dtype: int64"
      ]
     },
     "execution_count": 4,
     "metadata": {},
     "output_type": "execute_result"
    }
   ],
   "source": [
    "df['Class'].value_counts()"
   ]
  },
  {
   "cell_type": "code",
   "execution_count": 5,
   "metadata": {},
   "outputs": [],
   "source": [
    "#dropping id column as it is not a valid attribute to train model\n",
    "df = df.drop(['id'], axis = 1)"
   ]
  },
  {
   "cell_type": "code",
   "execution_count": 6,
   "metadata": {},
   "outputs": [
    {
     "data": {
      "text/html": [
       "<div>\n",
       "<style scoped>\n",
       "    .dataframe tbody tr th:only-of-type {\n",
       "        vertical-align: middle;\n",
       "    }\n",
       "\n",
       "    .dataframe tbody tr th {\n",
       "        vertical-align: top;\n",
       "    }\n",
       "\n",
       "    .dataframe thead th {\n",
       "        text-align: right;\n",
       "    }\n",
       "</style>\n",
       "<table border=\"1\" class=\"dataframe\">\n",
       "  <thead>\n",
       "    <tr style=\"text-align: right;\">\n",
       "      <th></th>\n",
       "      <th>Area</th>\n",
       "      <th>MajorAxisLength</th>\n",
       "      <th>MinorAxisLength</th>\n",
       "      <th>Eccentricity</th>\n",
       "      <th>ConvexArea</th>\n",
       "      <th>EquivDiameter</th>\n",
       "      <th>Extent</th>\n",
       "      <th>Perimeter</th>\n",
       "      <th>Roundness</th>\n",
       "      <th>AspectRation</th>\n",
       "      <th>Class</th>\n",
       "    </tr>\n",
       "  </thead>\n",
       "  <tbody>\n",
       "    <tr>\n",
       "      <th>8852</th>\n",
       "      <td>9285</td>\n",
       "      <td>156.236206</td>\n",
       "      <td>77.049313</td>\n",
       "      <td>0.869939</td>\n",
       "      <td>9545</td>\n",
       "      <td>108.729155</td>\n",
       "      <td>0.697543</td>\n",
       "      <td>381.677</td>\n",
       "      <td>0.800940</td>\n",
       "      <td>2.027743</td>\n",
       "      <td>Gonen</td>\n",
       "    </tr>\n",
       "    <tr>\n",
       "      <th>8192</th>\n",
       "      <td>6141</td>\n",
       "      <td>156.637180</td>\n",
       "      <td>50.110612</td>\n",
       "      <td>0.947446</td>\n",
       "      <td>6258</td>\n",
       "      <td>88.424906</td>\n",
       "      <td>0.452542</td>\n",
       "      <td>346.477</td>\n",
       "      <td>0.642836</td>\n",
       "      <td>3.125828</td>\n",
       "      <td>jasmine</td>\n",
       "    </tr>\n",
       "    <tr>\n",
       "      <th>8174</th>\n",
       "      <td>5860</td>\n",
       "      <td>154.129481</td>\n",
       "      <td>49.337928</td>\n",
       "      <td>0.947381</td>\n",
       "      <td>5970</td>\n",
       "      <td>86.378144</td>\n",
       "      <td>0.825701</td>\n",
       "      <td>336.355</td>\n",
       "      <td>0.650896</td>\n",
       "      <td>3.123955</td>\n",
       "      <td>jasmine</td>\n",
       "    </tr>\n",
       "    <tr>\n",
       "      <th>3946</th>\n",
       "      <td>5517</td>\n",
       "      <td>143.795748</td>\n",
       "      <td>50.218559</td>\n",
       "      <td>0.937035</td>\n",
       "      <td>5691</td>\n",
       "      <td>83.812067</td>\n",
       "      <td>0.634576</td>\n",
       "      <td>323.223</td>\n",
       "      <td>0.663603</td>\n",
       "      <td>2.863399</td>\n",
       "      <td>jasmine</td>\n",
       "    </tr>\n",
       "    <tr>\n",
       "      <th>17208</th>\n",
       "      <td>8828</td>\n",
       "      <td>162.956689</td>\n",
       "      <td>69.761554</td>\n",
       "      <td>0.903732</td>\n",
       "      <td>8966</td>\n",
       "      <td>106.019615</td>\n",
       "      <td>0.598468</td>\n",
       "      <td>380.381</td>\n",
       "      <td>0.766716</td>\n",
       "      <td>2.335910</td>\n",
       "      <td>Gonen</td>\n",
       "    </tr>\n",
       "  </tbody>\n",
       "</table>\n",
       "</div>"
      ],
      "text/plain": [
       "       Area  MajorAxisLength  MinorAxisLength  Eccentricity  ConvexArea  \\\n",
       "8852   9285       156.236206        77.049313      0.869939        9545   \n",
       "8192   6141       156.637180        50.110612      0.947446        6258   \n",
       "8174   5860       154.129481        49.337928      0.947381        5970   \n",
       "3946   5517       143.795748        50.218559      0.937035        5691   \n",
       "17208  8828       162.956689        69.761554      0.903732        8966   \n",
       "\n",
       "       EquivDiameter    Extent  Perimeter  Roundness  AspectRation    Class  \n",
       "8852      108.729155  0.697543    381.677   0.800940      2.027743    Gonen  \n",
       "8192       88.424906  0.452542    346.477   0.642836      3.125828  jasmine  \n",
       "8174       86.378144  0.825701    336.355   0.650896      3.123955  jasmine  \n",
       "3946       83.812067  0.634576    323.223   0.663603      2.863399  jasmine  \n",
       "17208     106.019615  0.598468    380.381   0.766716      2.335910    Gonen  "
      ]
     },
     "execution_count": 6,
     "metadata": {},
     "output_type": "execute_result"
    }
   ],
   "source": [
    "df.head()"
   ]
  },
  {
   "cell_type": "code",
   "execution_count": 7,
   "metadata": {},
   "outputs": [],
   "source": [
    "#min-max normalisation\n",
    "#convert class variables:   0 - jasmine & 1 - Gonen\n",
    "\n",
    "for column in df.columns[:-1]:     \n",
    "        maximum = df[column].max()   \n",
    "        minimum = df[column].min()\n",
    "        df[column]=(df[column]-minimum)/(maximum-minimum)               \n",
    "   \n",
    "y=df[df.columns[-1]]\n",
    "y.where(y=='jasmine',0)\n",
    "y.where(y=='Gonen',1)\n",
    "df[df.columns[-1]]=y     "
   ]
  },
  {
   "cell_type": "code",
   "execution_count": 8,
   "metadata": {},
   "outputs": [
    {
     "data": {
      "text/plain": [
       "(18185, 11)"
      ]
     },
     "execution_count": 8,
     "metadata": {},
     "output_type": "execute_result"
    }
   ],
   "source": [
    "data = df.to_numpy()\n",
    "data.shape"
   ]
  },
  {
   "cell_type": "code",
   "execution_count": 9,
   "metadata": {},
   "outputs": [],
   "source": [
    "#splitting into 7 folds\n",
    "\n",
    "data_g = np.array_split(data, 7)"
   ]
  },
  {
   "cell_type": "markdown",
   "metadata": {},
   "source": [
    "# Logistic Regression"
   ]
  },
  {
   "cell_type": "code",
   "execution_count": 10,
   "metadata": {},
   "outputs": [],
   "source": [
    "eval_log_validity = []\n",
    "train_log_validity = []\n",
    "\n",
    "for i in range(7):\n",
    "    eval_data = data_g[i]\n",
    "    eval_data_x = []\n",
    "    eval_data_y = []\n",
    "    train_data_x = []\n",
    "    train_data_y = []\n",
    "    for j in range(7):\n",
    "        if j!=i:      #creating training dataset\n",
    "            for w in range(len(data_g[j])):\n",
    "                train_data_x.append(data_g[j][w][:10])\n",
    "                train_data_y.append(data_g[j][w][10])\n",
    "        elif j == i:      #creating testing dataset\n",
    "            for w in range(len(data_g[j])):\n",
    "                eval_data_x.append(data_g[j][w][:10])\n",
    "                eval_data_y.append(data_g[j][w][10])\n",
    "                \n",
    "    #convert into array\n",
    "    eval_data_xn = np.array(eval_data_x)\n",
    "    train_data_xn = np.array(train_data_x)\n",
    "    eval_data_yn = np.array(eval_data_y)\n",
    "    train_data_yn = np.array(train_data_y)\n",
    "    \n",
    "    #importing model from sklearn \n",
    "    clf = LogisticRegression(random_state = 0,solver='lbfgs')\n",
    "    clf.fit(train_data_xn, train_data_yn)\n",
    "    \n",
    "    #predict class\n",
    "    eval_pred_y_log = clf.predict(eval_data_xn)\n",
    "    train_pred_y_log = clf.predict(train_data_xn)\n",
    "    \n",
    "    #calculating and appending accuracies\n",
    "    acc1_log = accuracy_score(eval_data_yn, eval_pred_y_log)\n",
    "    eval_log_validity.append(acc1_log)\n",
    "    \n",
    "    acc2_log = accuracy_score(train_data_yn, train_pred_y_log)\n",
    "    train_log_validity.append(acc2_log)"
   ]
  },
  {
   "cell_type": "code",
   "execution_count": 11,
   "metadata": {},
   "outputs": [
    {
     "name": "stdout",
     "output_type": "stream",
     "text": [
      "Mean accuracy for test set =  0.9868573239321687\n",
      "Mean accuracy for train set =  0.9870955932781896\n"
     ]
    }
   ],
   "source": [
    "print(\"Mean accuracy for test set = \", statistics.mean(eval_log_validity))\n",
    "print(\"Mean accuracy for train set = \", statistics.mean(train_log_validity))"
   ]
  },
  {
   "cell_type": "markdown",
   "metadata": {},
   "source": [
    "# Linear Perceptron"
   ]
  },
  {
   "cell_type": "code",
   "execution_count": 12,
   "metadata": {},
   "outputs": [],
   "source": [
    "eval_lp_validity = []\n",
    "train_lp_validity = []\n",
    "\n",
    "for i in range(7):\n",
    "    eval_data = data_g[i]\n",
    "    eval_data_x = []\n",
    "    eval_data_y = []\n",
    "    train_data_x = []\n",
    "    train_data_y = []\n",
    "    for j in range(7):\n",
    "        if j!=i:      #creating training dataset\n",
    "            for w in range(len(data_g[j])):\n",
    "                train_data_x.append(data_g[j][w][:10])\n",
    "                train_data_y.append(data_g[j][w][10])\n",
    "        elif j == i:      #creating testing dataset\n",
    "            for w in range(len(data_g[j])):\n",
    "                eval_data_x.append(data_g[j][w][:10])\n",
    "                eval_data_y.append(data_g[j][w][10])\n",
    "\n",
    "    #convert into array  \n",
    "    eval_data_xn = np.array(eval_data_x)\n",
    "    train_data_xn = np.array(train_data_x)\n",
    "    eval_data_yn = np.array(eval_data_y)\n",
    "    train_data_yn = np.array(train_data_y)\n",
    "    \n",
    "    #importing model from sklearn\n",
    "    clf = Perceptron(tol = 1e-3, random_state=0)\n",
    "    clf.fit(train_data_xn, train_data_yn)\n",
    "    \n",
    "    #predict class\n",
    "    eval_pred_y_lp = clf.predict(eval_data_xn)\n",
    "    train_pred_y_lp = clf.predict(train_data_xn)\n",
    "    \n",
    "    #calculating and appending accuracies\n",
    "    acc1_lp = accuracy_score(eval_data_yn, eval_pred_y_lp)\n",
    "    eval_lp_validity.append(acc1_lp)\n",
    "    \n",
    "    acc2_lp = accuracy_score(train_data_yn, train_pred_y_lp)\n",
    "    train_lp_validity.append(acc2_lp)"
   ]
  },
  {
   "cell_type": "code",
   "execution_count": 13,
   "metadata": {},
   "outputs": [
    {
     "name": "stdout",
     "output_type": "stream",
     "text": [
      "Mean accuracy for test set =  0.9843830624385733\n",
      "Mean accuracy for train set =  0.9830720814946508\n"
     ]
    }
   ],
   "source": [
    "#printing accuracies \n",
    "\n",
    "print(\"Mean accuracy for test set = \", statistics.mean(eval_lp_validity))\n",
    "print(\"Mean accuracy for train set = \", statistics.mean(train_lp_validity))"
   ]
  },
  {
   "cell_type": "markdown",
   "metadata": {},
   "source": [
    "# SVM"
   ]
  },
  {
   "cell_type": "code",
   "execution_count": 14,
   "metadata": {},
   "outputs": [],
   "source": [
    "eval_svm_validity = []\n",
    "train_svm_validity = []\n",
    "\n",
    "for i in range(7):\n",
    "    eval_data = data_g[i]\n",
    "    eval_data_x = []\n",
    "    eval_data_y = []\n",
    "    train_data_x = []\n",
    "    train_data_y = []\n",
    "    for j in range(7):\n",
    "        if j!=i:      #creating training dataset\n",
    "            for w in range(len(data_g[j])):\n",
    "                train_data_x.append(data_g[j][w][:10])\n",
    "                train_data_y.append(data_g[j][w][10])\n",
    "        elif j == i:      #creating testing dataset\n",
    "            for w in range(len(data_g[j])):\n",
    "                eval_data_x.append(data_g[j][w][:10])\n",
    "                eval_data_y.append(data_g[j][w][10])\n",
    "                \n",
    "    #convert into array\n",
    "    eval_data_xn = np.array(eval_data_x)\n",
    "    train_data_xn = np.array(train_data_x)\n",
    "    eval_data_yn = np.array(eval_data_y)\n",
    "    train_data_yn = np.array(train_data_y)\n",
    "    \n",
    "    #importing model from sklearn\n",
    "    clf = SVC(kernel = 'rbf',gamma='scale')\n",
    "    clf.fit(train_data_xn, train_data_yn)\n",
    "    \n",
    "    #predict class\n",
    "    eval_pred_y_svm = clf.predict(eval_data_xn)\n",
    "    train_pred_y_svm = clf.predict(train_data_xn)\n",
    "\n",
    "    #calculating and appending accuracies\n",
    "    acc1_svm = accuracy_score(eval_data_yn, eval_pred_y_svm)\n",
    "    eval_svm_validity.append(acc1_svm)\n",
    "    \n",
    "    acc2_svm = accuracy_score(train_data_yn, train_pred_y_svm)\n",
    "    train_svm_validity.append(acc2_svm)"
   ]
  },
  {
   "cell_type": "code",
   "execution_count": 15,
   "metadata": {},
   "outputs": [
    {
     "name": "stdout",
     "output_type": "stream",
     "text": [
      "Mean accuracy for eval set =  0.9899369332962544\n",
      "Mean accuracy for train set =  0.9898267852639953\n"
     ]
    }
   ],
   "source": [
    "#printing accuracies \n",
    "\n",
    "print(\"Mean accuracy for eval set = \", statistics.mean(eval_svm_validity))\n",
    "print(\"Mean accuracy for train set = \", statistics.mean(train_svm_validity))"
   ]
  },
  {
   "cell_type": "markdown",
   "metadata": {},
   "source": [
    "# Naive Bayes"
   ]
  },
  {
   "cell_type": "code",
   "execution_count": 16,
   "metadata": {},
   "outputs": [],
   "source": [
    "eval_nb_validity = []\n",
    "train_nb_validity = []\n",
    "\n",
    "for i in range(7):\n",
    "    eval_data = data_g[i]\n",
    "    eval_data_x = []\n",
    "    eval_data_y = []\n",
    "    train_data_x = []\n",
    "    train_data_y = []\n",
    "    for j in range(7):\n",
    "        if j!=i:      #creating training dataset\n",
    "            for w in range(len(data_g[j])):\n",
    "                train_data_x.append(data_g[j][w][:10])\n",
    "                train_data_y.append(data_g[j][w][10])\n",
    "        elif j == i:      #creating testing dataset\n",
    "            for w in range(len(data_g[j])):\n",
    "                eval_data_x.append(data_g[j][w][:10])\n",
    "                eval_data_y.append(data_g[j][w][10])\n",
    "       \n",
    "    #convert into array         \n",
    "    eval_data_xn = np.array(eval_data_x)\n",
    "    train_data_xn = np.array(train_data_x)\n",
    "    eval_data_yn = np.array(eval_data_y)\n",
    "    train_data_yn = np.array(train_data_y)\n",
    "    \n",
    "    #importing model from sklearn\n",
    "    clf = GaussianNB()\n",
    "    clf.fit(train_data_xn, train_data_yn)\n",
    "    \n",
    "    #predict class\n",
    "    eval_pred_y_nb = clf.predict(eval_data_xn)\n",
    "    train_pred_y_nb = clf.predict(train_data_xn)\n",
    "\n",
    "    #calculating and appending accuracies\n",
    "    acc1_nb = accuracy_score(eval_data_yn, eval_pred_y_nb)\n",
    "    eval_nb_validity.append(acc1_nb)\n",
    "    \n",
    "    acc2_nb = accuracy_score(train_data_yn, train_pred_y_nb)\n",
    "    train_nb_validity.append(acc2_nb)"
   ]
  },
  {
   "cell_type": "code",
   "execution_count": 17,
   "metadata": {},
   "outputs": [
    {
     "name": "stdout",
     "output_type": "stream",
     "text": [
      "Mean accuracy for test set =  0.9836127101625309\n",
      "Mean accuracy for train set =  0.9836953502811502\n"
     ]
    }
   ],
   "source": [
    "#printing accuracies \n",
    "\n",
    "print(\"Mean accuracy for test set = \", statistics.mean(eval_nb_validity))\n",
    "print(\"Mean accuracy for train set = \", statistics.mean(train_nb_validity))"
   ]
  },
  {
   "cell_type": "markdown",
   "metadata": {},
   "source": [
    "# Fisher Linear Discriminant"
   ]
  },
  {
   "cell_type": "code",
   "execution_count": 18,
   "metadata": {},
   "outputs": [],
   "source": [
    "eval_fl_validity = []\n",
    "train_fl_validity = []\n",
    "\n",
    "for i in range(7):\n",
    "    eval_data = data_g[i]\n",
    "    eval_data_x = []\n",
    "    eval_data_y = []\n",
    "    train_data_x = []\n",
    "    train_data_y = []\n",
    "    for j in range(7):\n",
    "        if j!=i:      #creating training dataset\n",
    "            for w in range(len(data_g[j])):\n",
    "                train_data_x.append(data_g[j][w][:10])\n",
    "                train_data_y.append(data_g[j][w][10])\n",
    "        elif j == i:      #creating testing dataset\n",
    "            for w in range(len(data_g[j])):\n",
    "                eval_data_x.append(data_g[j][w][:10])\n",
    "                eval_data_y.append(data_g[j][w][10])\n",
    "                \n",
    "    #convert into array\n",
    "    eval_data_xn = np.array(eval_data_x)\n",
    "    train_data_xn = np.array(train_data_x)\n",
    "    eval_data_yn = np.array(eval_data_y)\n",
    "    train_data_yn = np.array(train_data_y)\n",
    "    \n",
    "    #importing model from sklearn\n",
    "    clf = LinearDiscriminantAnalysis()\n",
    "    clf.fit(train_data_xn, train_data_yn)\n",
    "    \n",
    "    #predict class\n",
    "    eval_pred_y_fl = clf.predict(eval_data_xn)\n",
    "    train_pred_y_fl = clf.predict(train_data_xn)\n",
    "    \n",
    "    #calculating and appending accuracies\n",
    "    acc1_fl = accuracy_score(eval_data_yn, eval_pred_y_fl)\n",
    "    eval_fl_validity.append(acc1_fl)\n",
    "    \n",
    "    acc2_fl = accuracy_score(train_data_yn, train_pred_y_fl)\n",
    "    train_fl_validity.append(acc2_fl)"
   ]
  },
  {
   "cell_type": "code",
   "execution_count": 19,
   "metadata": {},
   "outputs": [
    {
     "name": "stdout",
     "output_type": "stream",
     "text": [
      "Mean accuracy for test set =  0.9867473703997638\n",
      "Mean accuracy for train set =  0.9867748160807042\n"
     ]
    }
   ],
   "source": [
    "#printing accuracies \n",
    "\n",
    "print(\"Mean accuracy for test set = \", statistics.mean(eval_fl_validity))\n",
    "print(\"Mean accuracy for train set = \", statistics.mean(train_fl_validity))"
   ]
  },
  {
   "cell_type": "markdown",
   "metadata": {},
   "source": [
    "# Artificial Neural Networks"
   ]
  },
  {
   "cell_type": "code",
   "execution_count": 20,
   "metadata": {},
   "outputs": [],
   "source": [
    "eval_ann_validity = []\n",
    "train_ann_validity = []\n",
    "\n",
    "for i in range(7):\n",
    "    eval_data = data_g[i]\n",
    "    eval_data_x = []\n",
    "    eval_data_y = []\n",
    "    train_data_x = []\n",
    "    train_data_y = []\n",
    "    for j in range(7):\n",
    "        if j!=i:      #creating training dataset\n",
    "            for w in range(len(data_g[j])):\n",
    "                train_data_x.append(data_g[j][w][:10])\n",
    "                train_data_y.append(data_g[j][w][10])\n",
    "        elif j == i:      #creating testing dataset\n",
    "            for w in range(len(data_g[j])):\n",
    "                eval_data_x.append(data_g[j][w][:10])\n",
    "                eval_data_y.append(data_g[j][w][10])\n",
    "                \n",
    "    #convert into array\n",
    "    eval_data_xn = np.array(eval_data_x)\n",
    "    train_data_xn = np.array(train_data_x)\n",
    "    eval_data_yn = np.array(eval_data_y)\n",
    "    train_data_yn = np.array(train_data_y)\n",
    "    \n",
    "    #importing model from sklearn\n",
    "    clf = MLPClassifier(hidden_layer_sizes = (10, 10, 10, 10,), max_iter = 1000, activation = 'logistic', solver = 'adam', \n",
    "                        random_state = 1)\n",
    "    \n",
    "    clf.fit(train_data_xn, train_data_yn)\n",
    "    \n",
    "    #predict class\n",
    "    eval_pred_y_ann = clf.predict(eval_data_xn)\n",
    "    train_pred_y_ann = clf.predict(train_data_xn)\n",
    "    \n",
    "    #calculating and appending accuracies\n",
    "    acc1_ann = accuracy_score(eval_data_yn, eval_pred_y_ann)\n",
    "    eval_ann_validity.append(acc1_ann)\n",
    "    \n",
    "    acc2_ann = accuracy_score(train_data_yn, train_pred_y_ann)\n",
    "    train_ann_validity.append(acc2_ann)"
   ]
  },
  {
   "cell_type": "code",
   "execution_count": 21,
   "metadata": {},
   "outputs": [
    {
     "name": "stdout",
     "output_type": "stream",
     "text": [
      "Mean accuracy for test set =  0.9863624801028147\n",
      "Mean accuracy for train set =  0.9864082166770897\n"
     ]
    }
   ],
   "source": [
    "#printing accuracies \n",
    "\n",
    "print(\"Mean accuracy for test set = \", statistics.mean(eval_ann_validity))\n",
    "print(\"Mean accuracy for train set = \", statistics.mean(train_ann_validity))"
   ]
  },
  {
   "cell_type": "markdown",
   "metadata": {},
   "source": [
    "# Box Plot"
   ]
  },
  {
   "cell_type": "code",
   "execution_count": 22,
   "metadata": {},
   "outputs": [
    {
     "data": {
      "image/png": "[encoded data removed]",
      "text/plain": [
       "<Figure size 1440x720 with 1 Axes>"
      ]
     },
     "metadata": {
      "needs_background": "light"
     },
     "output_type": "display_data"
    },
    {
     "name": "stdout",
     "output_type": "stream",
     "text": [
      "Best Model: Support Vector Machine\n",
      "Accuracy: 98.994\n",
      "\n",
      "Worst Model: Naive Bayes\n",
      "Accuracy: 98.361\n"
     ]
    }
   ],
   "source": [
    "labels=[\"Logistic Regression\",\"Linear Perceptron\", \"Support Vector Machine\",\"Naive Bayes\",\"Fisher Linear Discriminant\",\"Artificial Neural Networks\"]\n",
    "acclist=[eval_log_validity, eval_lp_validity, eval_svm_validity, eval_nb_validity, eval_fl_validity, eval_ann_validity]\n",
    "\n",
    "means={}\n",
    "for i in range(6):\n",
    "    means[i]=round(statistics.mean(acclist[i]), 5)\n",
    "means=np.array(list(means.values()))\n",
    "    \n",
    "#plot\n",
    "fig = plt.figure(figsize = (20, 10))\n",
    "plt.boxplot(acclist,showmeans='true')\n",
    "plt.xticks(ticks=np.arange(6)+1,labels=labels)\n",
    "\n",
    "for i in range(6):\n",
    "    plt.text(i+0.8, means[i], \"Mean: \"+str(means[i])[:7]) \n",
    "plt.show() \n",
    "\n",
    "\n",
    "#best and worst\n",
    "maxi,=np.where(means==np.amax(means))\n",
    "maxi=maxi[0]\n",
    "print(\"Best Model:\",labels[maxi])\n",
    "print(\"Accuracy:\",means[maxi]*100)\n",
    "\n",
    "mini,=np.where(means==np.amin(means))\n",
    "mini=mini[0]\n",
    "print(\"\\nWorst Model:\",labels[mini])\n",
    "print(\"Accuracy:\",means[mini]*100)"
   ]
  },
  {
   "cell_type": "code",
   "execution_count": null,
   "metadata": {},
   "outputs": [],
   "source": []
  }
 ],
 "metadata": {
  "kernelspec": {
   "display_name": "Python 3",
   "language": "python",
   "name": "python3"
  },
  "language_info": {
   "codemirror_mode": {
    "name": "ipython",
    "version": 3
   },
   "file_extension": ".py",
   "mimetype": "text/x-python",
   "name": "python",
   "nbconvert_exporter": "python",
   "pygments_lexer": "ipython3",
   "version": "3.7.3"
  }
 },
 "nbformat": 4,
 "nbformat_minor": 4
}
